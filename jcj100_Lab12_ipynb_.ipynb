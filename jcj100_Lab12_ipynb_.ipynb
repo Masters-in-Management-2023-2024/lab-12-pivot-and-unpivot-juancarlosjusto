{
  "nbformat": 4,
  "nbformat_minor": 0,
  "metadata": {
    "colab": {
      "provenance": []
    },
    "kernelspec": {
      "name": "python3",
      "display_name": "Python 3"
    },
    "language_info": {
      "name": "python"
    }
  },
  "cells": [
    {
      "cell_type": "code",
      "execution_count": 3,
      "metadata": {
        "id": "lacnc0z0Tyt3"
      },
      "outputs": [],
      "source": [
        "import polars as pl\n",
        "import numpy as np"
      ]
    },
    {
      "cell_type": "code",
      "source": [
        "# Question 1\n",
        "# 1a. Pivot data\n",
        "economics_long = pl.read_csv(\"https://raw.githubusercontent.com/philhetzel/opan5510-class12/refs/heads/main/data/economics_long.csv\")\n",
        "\n",
        "economics_wide = economics_long.pivot(\n",
        "    index=\"date\",\n",
        "    columns=\"variable\",\n",
        "    values=\"value\"\n",
        ").sort(\"date\")\n",
        "\n",
        "economics_wide"
      ],
      "metadata": {
        "colab": {
          "base_uri": "https://localhost:8080/",
          "height": 477
        },
        "id": "lyT9Bi4bUGdj",
        "outputId": "af7a9911-59e6-4fbf-80f4-79e52622d192"
      },
      "execution_count": 4,
      "outputs": [
        {
          "output_type": "stream",
          "name": "stderr",
          "text": [
            "/tmp/ipython-input-1845098523.py:5: DeprecationWarning: The argument `columns` for `DataFrame.pivot` is deprecated. It has been renamed to `on`.\n",
            "  economics_wide = economics_long.pivot(\n"
          ]
        },
        {
          "output_type": "execute_result",
          "data": {
            "text/plain": [
              "shape: (574, 6)\n",
              "┌────────────┬─────────┬────────────┬─────────┬─────────┬──────────┐\n",
              "│ date       ┆ pce     ┆ pop        ┆ psavert ┆ uempmed ┆ unemploy │\n",
              "│ ---        ┆ ---     ┆ ---        ┆ ---     ┆ ---     ┆ ---      │\n",
              "│ str        ┆ f64     ┆ f64        ┆ f64     ┆ f64     ┆ f64      │\n",
              "╞════════════╪═════════╪════════════╪═════════╪═════════╪══════════╡\n",
              "│ 1967-07-01 ┆ 506.7   ┆ 198712.0   ┆ 12.6    ┆ 4.5     ┆ 2944.0   │\n",
              "│ 1967-08-01 ┆ 509.8   ┆ 198911.0   ┆ 12.6    ┆ 4.7     ┆ 2945.0   │\n",
              "│ 1967-09-01 ┆ 515.6   ┆ 199113.0   ┆ 11.9    ┆ 4.6     ┆ 2958.0   │\n",
              "│ 1967-10-01 ┆ 512.2   ┆ 199311.0   ┆ 12.9    ┆ 4.9     ┆ 3143.0   │\n",
              "│ 1967-11-01 ┆ 517.4   ┆ 199498.0   ┆ 12.8    ┆ 4.7     ┆ 3066.0   │\n",
              "│ …          ┆ …       ┆ …          ┆ …       ┆ …       ┆ …        │\n",
              "│ 2014-12-01 ┆ 12062.0 ┆ 319746.157 ┆ 7.6     ┆ 12.9    ┆ 8717.0   │\n",
              "│ 2015-01-01 ┆ 12046.0 ┆ 319928.646 ┆ 7.7     ┆ 13.2    ┆ 8903.0   │\n",
              "│ 2015-02-01 ┆ 12082.4 ┆ 320074.511 ┆ 7.9     ┆ 12.9    ┆ 8610.0   │\n",
              "│ 2015-03-01 ┆ 12158.3 ┆ 320230.786 ┆ 7.4     ┆ 12.0    ┆ 8504.0   │\n",
              "│ 2015-04-01 ┆ 12193.8 ┆ 320402.295 ┆ 7.6     ┆ 11.5    ┆ 8526.0   │\n",
              "└────────────┴─────────┴────────────┴─────────┴─────────┴──────────┘"
            ],
            "text/html": [
              "<div><style>\n",
              ".dataframe > thead > tr,\n",
              ".dataframe > tbody > tr {\n",
              "  text-align: right;\n",
              "  white-space: pre-wrap;\n",
              "}\n",
              "</style>\n",
              "<small>shape: (574, 6)</small><table border=\"1\" class=\"dataframe\"><thead><tr><th>date</th><th>pce</th><th>pop</th><th>psavert</th><th>uempmed</th><th>unemploy</th></tr><tr><td>str</td><td>f64</td><td>f64</td><td>f64</td><td>f64</td><td>f64</td></tr></thead><tbody><tr><td>&quot;1967-07-01&quot;</td><td>506.7</td><td>198712.0</td><td>12.6</td><td>4.5</td><td>2944.0</td></tr><tr><td>&quot;1967-08-01&quot;</td><td>509.8</td><td>198911.0</td><td>12.6</td><td>4.7</td><td>2945.0</td></tr><tr><td>&quot;1967-09-01&quot;</td><td>515.6</td><td>199113.0</td><td>11.9</td><td>4.6</td><td>2958.0</td></tr><tr><td>&quot;1967-10-01&quot;</td><td>512.2</td><td>199311.0</td><td>12.9</td><td>4.9</td><td>3143.0</td></tr><tr><td>&quot;1967-11-01&quot;</td><td>517.4</td><td>199498.0</td><td>12.8</td><td>4.7</td><td>3066.0</td></tr><tr><td>&hellip;</td><td>&hellip;</td><td>&hellip;</td><td>&hellip;</td><td>&hellip;</td><td>&hellip;</td></tr><tr><td>&quot;2014-12-01&quot;</td><td>12062.0</td><td>319746.157</td><td>7.6</td><td>12.9</td><td>8717.0</td></tr><tr><td>&quot;2015-01-01&quot;</td><td>12046.0</td><td>319928.646</td><td>7.7</td><td>13.2</td><td>8903.0</td></tr><tr><td>&quot;2015-02-01&quot;</td><td>12082.4</td><td>320074.511</td><td>7.9</td><td>12.9</td><td>8610.0</td></tr><tr><td>&quot;2015-03-01&quot;</td><td>12158.3</td><td>320230.786</td><td>7.4</td><td>12.0</td><td>8504.0</td></tr><tr><td>&quot;2015-04-01&quot;</td><td>12193.8</td><td>320402.295</td><td>7.6</td><td>11.5</td><td>8526.0</td></tr></tbody></table></div>"
            ]
          },
          "metadata": {},
          "execution_count": 4
        }
      ]
    },
    {
      "cell_type": "code",
      "source": [
        "#1b. Calculate median unemployment for 2010-01-01 and beyond\n",
        "median_unemploy = (\n",
        "    economics_wide\n",
        "    .filter(pl.col(\"date\") >= \"2010-01-01\")\n",
        "    .select(pl.col(\"unemploy\").median().alias(\"median_unemploy\"))\n",
        ").item()\n",
        "\n",
        "print(f\"The median unemployment for 2010-01-01 and beyond is: {median_unemploy}\")\n"
      ],
      "metadata": {
        "colab": {
          "base_uri": "https://localhost:8080/"
        },
        "id": "shviH1-tUOuj",
        "outputId": "f55f7dbe-d08c-4a79-e07a-c75b61eeb1c8"
      },
      "execution_count": 5,
      "outputs": [
        {
          "output_type": "stream",
          "name": "stdout",
          "text": [
            "The median unemployment for 2010-01-01 and beyond is: 12471.0\n"
          ]
        }
      ]
    },
    {
      "cell_type": "code",
      "source": [
        "# Question 2: Air Passenger data\n",
        "# 2a. Unpivot data\n",
        "air_passengers = pl.read_csv(\n",
        "    \"https://raw.githubusercontent.com/philhetzel/opan5510-class12/refs/heads/main/data/AirPassengers.txt\",\n",
        "    separator=\"\\t\"\n",
        ")\n",
        "\n",
        "month_cols = [c for c in air_passengers.columns if c.lower() != \"year\"]\n",
        "\n",
        "air_passengers_long = (\n",
        "    air_passengers\n",
        "    .unpivot(\n",
        "        on=month_cols,\n",
        "        index=[\"Year\"],\n",
        "        variable_name=\"month\",\n",
        "        value_name=\"passengers\"\n",
        "    )\n",
        "    .rename({\"Year\": \"year\"})\n",
        "    .with_columns([\n",
        "        pl.col(\"year\").cast(pl.Int32),\n",
        "        pl.col(\"month\").str.to_lowercase(),\n",
        "        pl.col(\"passengers\").cast(pl.Int64)\n",
        "    ])\n",
        "    .sort([\"year\",\"month\"])\n",
        ")\n",
        "\n",
        "air_passengers_long"
      ],
      "metadata": {
        "colab": {
          "base_uri": "https://localhost:8080/",
          "height": 443
        },
        "id": "TyE_a2wIUWrk",
        "outputId": "7969784c-35fe-4c98-97ea-5732bc1927b3"
      },
      "execution_count": 6,
      "outputs": [
        {
          "output_type": "execute_result",
          "data": {
            "text/plain": [
              "shape: (144, 3)\n",
              "┌──────┬───────┬────────────┐\n",
              "│ year ┆ month ┆ passengers │\n",
              "│ ---  ┆ ---   ┆ ---        │\n",
              "│ i32  ┆ str   ┆ i64        │\n",
              "╞══════╪═══════╪════════════╡\n",
              "│ 1949 ┆ apr   ┆ 129        │\n",
              "│ 1949 ┆ aug   ┆ 148        │\n",
              "│ 1949 ┆ dec   ┆ 118        │\n",
              "│ 1949 ┆ feb   ┆ 118        │\n",
              "│ 1949 ┆ jan   ┆ 112        │\n",
              "│ …    ┆ …     ┆ …          │\n",
              "│ 1960 ┆ mar   ┆ 419        │\n",
              "│ 1960 ┆ may   ┆ 472        │\n",
              "│ 1960 ┆ nov   ┆ 390        │\n",
              "│ 1960 ┆ oct   ┆ 461        │\n",
              "│ 1960 ┆ sep   ┆ 508        │\n",
              "└──────┴───────┴────────────┘"
            ],
            "text/html": [
              "<div><style>\n",
              ".dataframe > thead > tr,\n",
              ".dataframe > tbody > tr {\n",
              "  text-align: right;\n",
              "  white-space: pre-wrap;\n",
              "}\n",
              "</style>\n",
              "<small>shape: (144, 3)</small><table border=\"1\" class=\"dataframe\"><thead><tr><th>year</th><th>month</th><th>passengers</th></tr><tr><td>i32</td><td>str</td><td>i64</td></tr></thead><tbody><tr><td>1949</td><td>&quot;apr&quot;</td><td>129</td></tr><tr><td>1949</td><td>&quot;aug&quot;</td><td>148</td></tr><tr><td>1949</td><td>&quot;dec&quot;</td><td>118</td></tr><tr><td>1949</td><td>&quot;feb&quot;</td><td>118</td></tr><tr><td>1949</td><td>&quot;jan&quot;</td><td>112</td></tr><tr><td>&hellip;</td><td>&hellip;</td><td>&hellip;</td></tr><tr><td>1960</td><td>&quot;mar&quot;</td><td>419</td></tr><tr><td>1960</td><td>&quot;may&quot;</td><td>472</td></tr><tr><td>1960</td><td>&quot;nov&quot;</td><td>390</td></tr><tr><td>1960</td><td>&quot;oct&quot;</td><td>461</td></tr><tr><td>1960</td><td>&quot;sep&quot;</td><td>508</td></tr></tbody></table></div>"
            ]
          },
          "metadata": {},
          "execution_count": 6
        }
      ]
    },
    {
      "cell_type": "code",
      "source": [
        "# 2b. Find the standard deviation between 1955 and 1960\n",
        "std_passengers = (\n",
        "    air_passengers_long\n",
        "    .filter((pl.col(\"year\") >= 1955) & (pl.col(\"year\") <= 1960))\n",
        "    .select(pl.col(\"passengers\").std().alias(\"std_passengers\"))\n",
        ").item()\n",
        "\n",
        "print(f\"The standard deviation of airline passengers between 1955 and 1960 is: {std_passengers:.2f}\")"
      ],
      "metadata": {
        "colab": {
          "base_uri": "https://localhost:8080/"
        },
        "id": "7Xkk1eD8Uhrj",
        "outputId": "b48a236b-87ca-4c6b-8bbe-c0d655dd733e"
      },
      "execution_count": 7,
      "outputs": [
        {
          "output_type": "stream",
          "name": "stdout",
          "text": [
            "The standard deviation of airline passengers between 1955 and 1960 is: 86.44\n"
          ]
        }
      ]
    },
    {
      "cell_type": "code",
      "source": [
        "# Question 3: WHO tuberculosis case data\n",
        "#3a. Pivot data\n",
        "table2 = pl.read_csv(\"https://raw.githubusercontent.com/philhetzel/opan5510-class12/refs/heads/main/data/table2.csv\")\n",
        "\n",
        "table2_wide = (\n",
        "    table2\n",
        "    .pivot(\n",
        "        index=[\"country\",\"year\"],\n",
        "        columns=\"type\",\n",
        "        values=\"count\"\n",
        "    )\n",
        "    .sort([\"country\",\"year\"])\n",
        ")\n",
        "\n",
        "table2_wide"
      ],
      "metadata": {
        "colab": {
          "base_uri": "https://localhost:8080/",
          "height": 321
        },
        "id": "45MwGyDUUaol",
        "outputId": "253162f7-7872-43c7-8406-5f1e0bebd652"
      },
      "execution_count": 8,
      "outputs": [
        {
          "output_type": "stream",
          "name": "stderr",
          "text": [
            "/tmp/ipython-input-3894968542.py:7: DeprecationWarning: The argument `columns` for `DataFrame.pivot` is deprecated. It has been renamed to `on`.\n",
            "  .pivot(\n"
          ]
        },
        {
          "output_type": "execute_result",
          "data": {
            "text/plain": [
              "shape: (6, 4)\n",
              "┌─────────────┬──────┬────────┬────────────┐\n",
              "│ country     ┆ year ┆ cases  ┆ population │\n",
              "│ ---         ┆ ---  ┆ ---    ┆ ---        │\n",
              "│ str         ┆ i64  ┆ i64    ┆ i64        │\n",
              "╞═════════════╪══════╪════════╪════════════╡\n",
              "│ Afghanistan ┆ 1999 ┆ 745    ┆ 19987071   │\n",
              "│ Afghanistan ┆ 2000 ┆ 2666   ┆ 20595360   │\n",
              "│ Brazil      ┆ 1999 ┆ 37737  ┆ 172006362  │\n",
              "│ Brazil      ┆ 2000 ┆ 80488  ┆ 174504898  │\n",
              "│ China       ┆ 1999 ┆ 212258 ┆ 1272915272 │\n",
              "│ China       ┆ 2000 ┆ 213766 ┆ 1280428583 │\n",
              "└─────────────┴──────┴────────┴────────────┘"
            ],
            "text/html": [
              "<div><style>\n",
              ".dataframe > thead > tr,\n",
              ".dataframe > tbody > tr {\n",
              "  text-align: right;\n",
              "  white-space: pre-wrap;\n",
              "}\n",
              "</style>\n",
              "<small>shape: (6, 4)</small><table border=\"1\" class=\"dataframe\"><thead><tr><th>country</th><th>year</th><th>cases</th><th>population</th></tr><tr><td>str</td><td>i64</td><td>i64</td><td>i64</td></tr></thead><tbody><tr><td>&quot;Afghanistan&quot;</td><td>1999</td><td>745</td><td>19987071</td></tr><tr><td>&quot;Afghanistan&quot;</td><td>2000</td><td>2666</td><td>20595360</td></tr><tr><td>&quot;Brazil&quot;</td><td>1999</td><td>37737</td><td>172006362</td></tr><tr><td>&quot;Brazil&quot;</td><td>2000</td><td>80488</td><td>174504898</td></tr><tr><td>&quot;China&quot;</td><td>1999</td><td>212258</td><td>1272915272</td></tr><tr><td>&quot;China&quot;</td><td>2000</td><td>213766</td><td>1280428583</td></tr></tbody></table></div>"
            ]
          },
          "metadata": {},
          "execution_count": 8
        }
      ]
    },
    {
      "cell_type": "code",
      "source": [
        "#3b. Calculate highest cases/population ratio for 1999\n",
        "table2_with_ratio = table2_wide.with_columns(\n",
        "    (pl.col(\"cases\") / pl.col(\"population\")).alias(\"ratio\")\n",
        ")\n",
        "\n",
        "year_1999 = table2_with_ratio.filter(pl.col(\"year\") == 1999).sort(\"ratio\", descending=True)\n",
        "\n",
        "highest_ratio_country = year_1999[\"country\"][0]\n",
        "\n",
        "print(\"Data for 1999 with ratios:\")\n",
        "print(year_1999)\n",
        "print(f\"\\nThe country with the highest cases/population ratio in 1999 is: {highest_ratio_country}\")"
      ],
      "metadata": {
        "colab": {
          "base_uri": "https://localhost:8080/"
        },
        "id": "hSZb2M5CUw2P",
        "outputId": "5aed3f1b-a27f-4aa0-f7e9-9529e4ff4389"
      },
      "execution_count": 9,
      "outputs": [
        {
          "output_type": "stream",
          "name": "stdout",
          "text": [
            "Data for 1999 with ratios:\n",
            "shape: (3, 5)\n",
            "┌─────────────┬──────┬────────┬────────────┬──────────┐\n",
            "│ country     ┆ year ┆ cases  ┆ population ┆ ratio    │\n",
            "│ ---         ┆ ---  ┆ ---    ┆ ---        ┆ ---      │\n",
            "│ str         ┆ i64  ┆ i64    ┆ i64        ┆ f64      │\n",
            "╞═════════════╪══════╪════════╪════════════╪══════════╡\n",
            "│ Brazil      ┆ 1999 ┆ 37737  ┆ 172006362  ┆ 0.000219 │\n",
            "│ China       ┆ 1999 ┆ 212258 ┆ 1272915272 ┆ 0.000167 │\n",
            "│ Afghanistan ┆ 1999 ┆ 745    ┆ 19987071   ┆ 0.000037 │\n",
            "└─────────────┴──────┴────────┴────────────┴──────────┘\n",
            "\n",
            "The country with the highest cases/population ratio in 1999 is: Brazil\n"
          ]
        }
      ]
    }
  ]
}